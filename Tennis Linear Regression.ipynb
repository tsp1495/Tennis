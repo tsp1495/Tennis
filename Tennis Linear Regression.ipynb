{
 "cells": [
  {
   "cell_type": "code",
   "execution_count": 23,
   "id": "f6a3fb7d",
   "metadata": {},
   "outputs": [],
   "source": [
    "import pandas as pd\n",
    "import numpy as np\n",
    "from matplotlib import pyplot as plt\n",
    "import seaborn as sns \n",
    "from sklearn.model_selection import train_test_split\n",
    "from sklearn.linear_model import LinearRegression"
   ]
  },
  {
   "cell_type": "code",
   "execution_count": 20,
   "id": "89f51d0a",
   "metadata": {},
   "outputs": [],
   "source": [
    "df=pd.read_csv(\"tennis_stats.csv\")"
   ]
  },
  {
   "cell_type": "code",
   "execution_count": null,
   "id": "e837089f",
   "metadata": {},
   "outputs": [],
   "source": [
    "# find out what is the CSV file by using .head. Understand the structure of the column"
   ]
  },
  {
   "cell_type": "code",
   "execution_count": 4,
   "id": "5d055bca",
   "metadata": {},
   "outputs": [
    {
     "name": "stdout",
     "output_type": "stream",
     "text": [
      "                 Player  Year  FirstServe  FirstServePointsWon  \\\n",
      "0           Pedro Sousa  2016        0.88                 0.50   \n",
      "1       Roman Safiullin  2017        0.84                 0.62   \n",
      "2           Pedro Sousa  2017        0.83                 0.60   \n",
      "3   Rogerio Dutra Silva  2010        0.83                 0.64   \n",
      "4  Daniel Gimeno-Traver  2017        0.81                 0.54   \n",
      "\n",
      "   FirstServeReturnPointsWon  SecondServePointsWon  \\\n",
      "0                       0.38                  0.50   \n",
      "1                       0.26                  0.33   \n",
      "2                       0.28                  0.53   \n",
      "3                       0.34                  0.59   \n",
      "4                       0.00                  0.33   \n",
      "\n",
      "   SecondServeReturnPointsWon  Aces  BreakPointsConverted  BreakPointsFaced  \\\n",
      "0                        0.39     0                  0.14                 7   \n",
      "1                        0.07     7                  0.00                 7   \n",
      "2                        0.44     2                  0.38                10   \n",
      "3                        0.33     2                  0.33                 5   \n",
      "4                        0.33     1                  0.00                 2   \n",
      "\n",
      "   ...  ReturnGamesWon  ReturnPointsWon  ServiceGamesPlayed  ServiceGamesWon  \\\n",
      "0  ...            0.11             0.38                   8             0.50   \n",
      "1  ...            0.00             0.20                   9             0.67   \n",
      "2  ...            0.16             0.34                  17             0.65   \n",
      "3  ...            0.14             0.34                  15             0.80   \n",
      "4  ...            0.00             0.20                   2             0.50   \n",
      "\n",
      "   TotalPointsWon  TotalServicePointsWon  Wins  Losses  Winnings  Ranking  \n",
      "0            0.43                   0.50     1       2     39820      119  \n",
      "1            0.41                   0.57     0       1     17334      381  \n",
      "2            0.45                   0.59     4       1    109827      119  \n",
      "3            0.49                   0.63     0       0      9761      125  \n",
      "4            0.35                   0.50     0       1     32879      272  \n",
      "\n",
      "[5 rows x 24 columns]\n"
     ]
    }
   ],
   "source": [
    "print(df.head())"
   ]
  },
  {
   "cell_type": "code",
   "execution_count": null,
   "id": "ad08d1d3",
   "metadata": {},
   "outputs": [],
   "source": [
    "# do some analysis to see what coloumns have some form of correlation to do some linear regression on"
   ]
  },
  {
   "cell_type": "code",
   "execution_count": 64,
   "id": "2a4ab832",
   "metadata": {},
   "outputs": [],
   "source": [
    "x=df[[\"Aces\"]]\n",
    "y=df[[\"Wins\"]]\n",
    "x1=df[[\"DoubleFaults\"]]\n",
    "y1=df[[\"Losses\"]]"
   ]
  },
  {
   "cell_type": "code",
   "execution_count": null,
   "id": "cbc4ee1d",
   "metadata": {},
   "outputs": [],
   "source": [
    "plt.scatter(x,y)"
   ]
  },
  {
   "cell_type": "code",
   "execution_count": 65,
   "id": "1d94e72b",
   "metadata": {},
   "outputs": [
    {
     "data": {
      "text/plain": [
       "<matplotlib.collections.PathCollection at 0x1debbdc5f40>"
      ]
     },
     "execution_count": 65,
     "metadata": {},
     "output_type": "execute_result"
    },
    {
     "data": {
      "image/png": "[encoded data removed]",
      "text/plain": [
       "<Figure size 432x288 with 1 Axes>"
      ]
     },
     "metadata": {
      "needs_background": "light"
     },
     "output_type": "display_data"
    }
   ],
   "source": [
    "plt.scatter(x1,y1)"
   ]
  },
  {
   "cell_type": "code",
   "execution_count": 21,
   "id": "b7fd6c13",
   "metadata": {},
   "outputs": [],
   "source": [
    "# will perform linear regression on Aces vs wins"
   ]
  },
  {
   "cell_type": "code",
   "execution_count": 49,
   "id": "db19df17",
   "metadata": {},
   "outputs": [],
   "source": [
    "x_train,x_test,y_train,y_test=train_test_split(x,y,train_size=0.8)"
   ]
  },
  {
   "cell_type": "code",
   "execution_count": 51,
   "id": "cb587fa3",
   "metadata": {},
   "outputs": [
    {
     "data": {
      "text/plain": [
       "LinearRegression()"
      ]
     },
     "execution_count": 51,
     "metadata": {},
     "output_type": "execute_result"
    }
   ],
   "source": [
    "best_line=LinearRegression()\n",
    "best_line.fit(x_train,y_train)"
   ]
  },
  {
   "cell_type": "code",
   "execution_count": 61,
   "id": "f1efde2a",
   "metadata": {},
   "outputs": [
    {
     "name": "stdout",
     "output_type": "stream",
     "text": [
      "Score of aces vs wins:  0.6732940553051037\n"
     ]
    }
   ],
   "source": [
    "print(\"Score of aces vs wins: \" , best_line.score(x_train,y_train))"
   ]
  },
  {
   "cell_type": "code",
   "execution_count": null,
   "id": "e3e342aa",
   "metadata": {},
   "outputs": [],
   "source": [
    "y_predict=best_line.predict(x_test)\n",
    "print(model.score)"
   ]
  },
  {
   "cell_type": "code",
   "execution_count": 62,
   "id": "08d520a3",
   "metadata": {},
   "outputs": [
    {
     "data": {
      "text/plain": [
       "Text(0.5, 1.0, 'Actual Number of Wins vs Predicted Number of Wins')"
      ]
     },
     "execution_count": 62,
     "metadata": {},
     "output_type": "execute_result"
    },
    {
     "data": {
      "image/png": "[encoded data removed]",
      "text/plain": [
       "<Figure size 432x288 with 1 Axes>"
      ]
     },
     "metadata": {
      "needs_background": "light"
     },
     "output_type": "display_data"
    }
   ],
   "source": [
    "plt.scatter(y_test,y_predict,alpha=0.5)\n",
    "plt.xlabel(\"Actual Number of Wins\")\n",
    "plt.ylabel(\"Predicted Number of Wins\")\n",
    "plt.title(\"Actual Number of Wins vs Predicted Number of Wins\")"
   ]
  },
  {
   "cell_type": "code",
   "execution_count": 66,
   "id": "9c2cc06f",
   "metadata": {},
   "outputs": [],
   "source": [
    "# will perform regression analysis on double faults vs losses"
   ]
  },
  {
   "cell_type": "code",
   "execution_count": 67,
   "id": "d3050cd7",
   "metadata": {},
   "outputs": [],
   "source": [
    "x_train,x_test,y_train,y_test=train_test_split(x1,y1,train_size=0.8)"
   ]
  },
  {
   "cell_type": "code",
   "execution_count": 68,
   "id": "97427ed8",
   "metadata": {},
   "outputs": [
    {
     "data": {
      "text/plain": [
       "LinearRegression()"
      ]
     },
     "execution_count": 68,
     "metadata": {},
     "output_type": "execute_result"
    }
   ],
   "source": [
    "best_line=LinearRegression()\n",
    "best_line.fit(x_train,y_train)"
   ]
  },
  {
   "cell_type": "code",
   "execution_count": 70,
   "id": "d6ea26d4",
   "metadata": {},
   "outputs": [
    {
     "name": "stdout",
     "output_type": "stream",
     "text": [
      "Score of double faults vs losses:  0.7809422290009841\n"
     ]
    }
   ],
   "source": [
    "print(\"Score of double faults vs losses: \" , best_line.score(x_train,y_train))"
   ]
  },
  {
   "cell_type": "code",
   "execution_count": null,
   "id": "85bfa55a",
   "metadata": {},
   "outputs": [],
   "source": [
    "y_predict=best_line.predict(x_test)\n",
    "print(model.score())"
   ]
  },
  {
   "cell_type": "code",
   "execution_count": 72,
   "id": "d83cf95d",
   "metadata": {},
   "outputs": [
    {
     "data": {
      "text/plain": [
       "Text(0.5, 1.0, 'Actual Number of Losses vs Predicted Number of Losses')"
      ]
     },
     "execution_count": 72,
     "metadata": {},
     "output_type": "execute_result"
    },
    {
     "data": {
      "image/png": "[encoded data removed]",
      "text/plain": [
       "<Figure size 432x288 with 1 Axes>"
      ]
     },
     "metadata": {
      "needs_background": "light"
     },
     "output_type": "display_data"
    }
   ],
   "source": [
    "plt.scatter(y_test,y_predict,alpha=0.5)\n",
    "plt.xlabel(\"Actual Number of Losses\")\n",
    "plt.ylabel(\"Predicted Number of Losses\")\n",
    "plt.title(\"Actual Number of Losses vs Predicted Number of Losses\")"
   ]
  },
  {
   "cell_type": "code",
   "execution_count": 73,
   "id": "a4e385d0",
   "metadata": {},
   "outputs": [],
   "source": [
    "# 2 features Linear Regression"
   ]
  },
  {
   "cell_type": "code",
   "execution_count": 74,
   "id": "e5d8ba85",
   "metadata": {},
   "outputs": [],
   "source": [
    "# will do it on Break Points Converted and Return Points won vs Wins"
   ]
  },
  {
   "cell_type": "code",
   "execution_count": 85,
   "id": "b3dff048",
   "metadata": {},
   "outputs": [
    {
     "name": "stdout",
     "output_type": "stream",
     "text": [
      "   Aces  FirstServePointsWon\n",
      "0     0                 0.50\n",
      "1     7                 0.62\n",
      "2     2                 0.60\n",
      "3     2                 0.64\n",
      "4     1                 0.54\n"
     ]
    }
   ],
   "source": [
    "x2=df[[\"Aces\",\"FirstServePointsWon\"]]\n",
    "print(x2.head())"
   ]
  },
  {
   "cell_type": "code",
   "execution_count": 86,
   "id": "f03a755e",
   "metadata": {},
   "outputs": [],
   "source": [
    "x_train,x_test,y_train,y_test=train_test_split(x2,y,train_size=0.8)"
   ]
  },
  {
   "cell_type": "code",
   "execution_count": 87,
   "id": "e9b61766",
   "metadata": {},
   "outputs": [
    {
     "data": {
      "text/plain": [
       "LinearRegression()"
      ]
     },
     "execution_count": 87,
     "metadata": {},
     "output_type": "execute_result"
    }
   ],
   "source": [
    "best_line=LinearRegression()\n",
    "best_line.fit(x_train,y_train)"
   ]
  },
  {
   "cell_type": "code",
   "execution_count": 89,
   "id": "66ae31c8",
   "metadata": {},
   "outputs": [
    {
     "name": "stdout",
     "output_type": "stream",
     "text": [
      "Score of Aces and First Serve Points won vs wins:  0.6667958091621975\n"
     ]
    }
   ],
   "source": [
    "print(\"Score of Aces and First Serve Points won vs wins: \" , best_line.score(x_train,y_train))"
   ]
  },
  {
   "cell_type": "code",
   "execution_count": 90,
   "id": "1a87b379",
   "metadata": {},
   "outputs": [],
   "source": [
    "y_predict=best_line.predict(x_test)"
   ]
  },
  {
   "cell_type": "code",
   "execution_count": 91,
   "id": "4eee205a",
   "metadata": {},
   "outputs": [
    {
     "data": {
      "text/plain": [
       "Text(0.5, 1.0, 'Actual Number of Wins vs Predicted Number of Wins')"
      ]
     },
     "execution_count": 91,
     "metadata": {},
     "output_type": "execute_result"
    },
    {
     "data": {
      "image/png": "[encoded data removed]",
      "text/plain": [
       "<Figure size 432x288 with 1 Axes>"
      ]
     },
     "metadata": {
      "needs_background": "light"
     },
     "output_type": "display_data"
    }
   ],
   "source": [
    "plt.scatter(y_test,y_predict,alpha=0.5)\n",
    "plt.xlabel(\"Actual Number of Wins\")\n",
    "plt.ylabel(\"Predicted Number of Wins\")\n",
    "plt.title(\"Actual Number of Wins vs Predicted Number of Wins\")"
   ]
  },
  {
   "cell_type": "code",
   "execution_count": null,
   "id": "53b818fd",
   "metadata": {},
   "outputs": [],
   "source": []
  }
 ],
 "metadata": {
  "kernelspec": {
   "display_name": "Python 3 (ipykernel)",
   "language": "python",
   "name": "python3"
  },
  "language_info": {
   "codemirror_mode": {
    "name": "ipython",
    "version": 3
   },
   "file_extension": ".py",
   "mimetype": "text/x-python",
   "name": "python",
   "nbconvert_exporter": "python",
   "pygments_lexer": "ipython3",
   "version": "3.9.7"
  }
 },
 "nbformat": 4,
 "nbformat_minor": 5
}
