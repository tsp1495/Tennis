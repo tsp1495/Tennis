{
 "cells": [
  {
   "cell_type": "code",
   "execution_count": 5,
   "id": "f6a3fb7d",
   "metadata": {},
   "outputs": [],
   "source": [
    "import pandas as pd\n",
    "import numpy as np\n",
    "from matplotlib import pyplot as plt\n",
    "import seaborn as sns \n",
    "from sklearn.model_selection import train_test_split\n",
    "from sklearn.linear_model import LinearRegression"
   ]
  },
  {
   "cell_type": "code",
   "execution_count": 6,
   "id": "89f51d0a",
   "metadata": {},
   "outputs": [],
   "source": [
    "df=pd.read_csv(\"tennis_stats.csv\")"
   ]
  },
  {
   "cell_type": "code",
   "execution_count": null,
   "id": "e837089f",
   "metadata": {},
   "outputs": [],
   "source": [
    "# find out what is in the CSV file by using .head. Understand the structure of the columns"
   ]
  },
  {
   "cell_type": "code",
   "execution_count": 4,
   "id": "5d055bca",
   "metadata": {},
   "outputs": [
    {
     "name": "stdout",
     "output_type": "stream",
     "text": [
      "                 Player  Year  FirstServe  FirstServePointsWon  \\\n",
      "0           Pedro Sousa  2016        0.88                 0.50   \n",
      "1       Roman Safiullin  2017        0.84                 0.62   \n",
      "2           Pedro Sousa  2017        0.83                 0.60   \n",
      "3   Rogerio Dutra Silva  2010        0.83                 0.64   \n",
      "4  Daniel Gimeno-Traver  2017        0.81                 0.54   \n",
      "\n",
      "   FirstServeReturnPointsWon  SecondServePointsWon  \\\n",
      "0                       0.38                  0.50   \n",
      "1                       0.26                  0.33   \n",
      "2                       0.28                  0.53   \n",
      "3                       0.34                  0.59   \n",
      "4                       0.00                  0.33   \n",
      "\n",
      "   SecondServeReturnPointsWon  Aces  BreakPointsConverted  BreakPointsFaced  \\\n",
      "0                        0.39     0                  0.14                 7   \n",
      "1                        0.07     7                  0.00                 7   \n",
      "2                        0.44     2                  0.38                10   \n",
      "3                        0.33     2                  0.33                 5   \n",
      "4                        0.33     1                  0.00                 2   \n",
      "\n",
      "   ...  ReturnGamesWon  ReturnPointsWon  ServiceGamesPlayed  ServiceGamesWon  \\\n",
      "0  ...            0.11             0.38                   8             0.50   \n",
      "1  ...            0.00             0.20                   9             0.67   \n",
      "2  ...            0.16             0.34                  17             0.65   \n",
      "3  ...            0.14             0.34                  15             0.80   \n",
      "4  ...            0.00             0.20                   2             0.50   \n",
      "\n",
      "   TotalPointsWon  TotalServicePointsWon  Wins  Losses  Winnings  Ranking  \n",
      "0            0.43                   0.50     1       2     39820      119  \n",
      "1            0.41                   0.57     0       1     17334      381  \n",
      "2            0.45                   0.59     4       1    109827      119  \n",
      "3            0.49                   0.63     0       0      9761      125  \n",
      "4            0.35                   0.50     0       1     32879      272  \n",
      "\n",
      "[5 rows x 24 columns]\n"
     ]
    }
   ],
   "source": [
    "print(df.head())"
   ]
  },
  {
   "cell_type": "code",
   "execution_count": null,
   "id": "ad08d1d3",
   "metadata": {},
   "outputs": [],
   "source": [
    "# do some analysis to see what coloumns have some form of correlation to do some linear regression on"
   ]
  },
  {
   "cell_type": "code",
   "execution_count": 9,
   "id": "2a4ab832",
   "metadata": {},
   "outputs": [],
   "source": [
    "x=df[[\"Aces\"]]\n",
    "y=df[[\"Wins\"]]\n",
    "x1=df[[\"DoubleFaults\"]]\n",
    "y1=df[[\"Losses\"]]"
   ]
  },
  {
   "cell_type": "code",
   "execution_count": 80,
   "id": "cbc4ee1d",
   "metadata": {},
   "outputs": [
    {
     "data": {
      "text/plain": [
       "Text(0.5, 1.0, 'Correlation between Aces and Wins')"
      ]
     },
     "execution_count": 80,
     "metadata": {},
     "output_type": "execute_result"
    },
    {
     "data": {
      "image/png": "[encoded data removed]",
      "text/plain": [
       "<Figure size 432x288 with 1 Axes>"
      ]
     },
     "metadata": {
      "needs_background": "light"
     },
     "output_type": "display_data"
    }
   ],
   "source": [
    "plt.scatter(x,y)\n",
    "plt.xlabel(\"Aces\")\n",
    "plt.ylabel(\"Wins\")\n",
    "plt.title(\"Correlation between Aces and Wins\")"
   ]
  },
  {
   "cell_type": "code",
   "execution_count": 81,
   "id": "1d94e72b",
   "metadata": {},
   "outputs": [
    {
     "data": {
      "text/plain": [
       "Text(0.5, 1.0, 'Correlation between Double Faults and Losses')"
      ]
     },
     "execution_count": 81,
     "metadata": {},
     "output_type": "execute_result"
    },
    {
     "data": {
      "image/png": "[encoded data removed]",
      "text/plain": [
       "<Figure size 432x288 with 1 Axes>"
      ]
     },
     "metadata": {
      "needs_background": "light"
     },
     "output_type": "display_data"
    }
   ],
   "source": [
    "plt.scatter(x1,y1)\n",
    "plt.xlabel(\"Double Faults\")\n",
    "plt.ylabel(\"Losses\")\n",
    "plt.title(\"Correlation between Double Faults and Losses\")"
   ]
  },
  {
   "cell_type": "code",
   "execution_count": 82,
   "id": "b7fd6c13",
   "metadata": {},
   "outputs": [],
   "source": [
    "# First Task is to perform linear regression on Aces vs wins and see what the score is"
   ]
  },
  {
   "cell_type": "code",
   "execution_count": 53,
   "id": "db19df17",
   "metadata": {},
   "outputs": [],
   "source": [
    "x_train,x_test,y_train,y_test=train_test_split(x,y,train_size=0.8)"
   ]
  },
  {
   "cell_type": "code",
   "execution_count": 54,
   "id": "cb587fa3",
   "metadata": {},
   "outputs": [
    {
     "data": {
      "text/plain": [
       "LinearRegression()"
      ]
     },
     "execution_count": 54,
     "metadata": {},
     "output_type": "execute_result"
    }
   ],
   "source": [
    "best_line=LinearRegression()\n",
    "best_line.fit(x_train,y_train)"
   ]
  },
  {
   "cell_type": "code",
   "execution_count": 55,
   "id": "f1efde2a",
   "metadata": {},
   "outputs": [
    {
     "name": "stdout",
     "output_type": "stream",
     "text": [
      "Score of aces vs wins:  0.69907152207375\n"
     ]
    }
   ],
   "source": [
    "print(\"Score of aces vs wins: \" , best_line.score(x_test,y_test))"
   ]
  },
  {
   "cell_type": "code",
   "execution_count": 56,
   "id": "e3e342aa",
   "metadata": {},
   "outputs": [],
   "source": [
    "y_predict=best_line.predict(x_test)\n"
   ]
  },
  {
   "cell_type": "code",
   "execution_count": 58,
   "id": "08d520a3",
   "metadata": {},
   "outputs": [
    {
     "data": {
      "text/plain": [
       "Text(0.5, 1.0, 'Actual Number of Wins vs Predicted Number of Wins')"
      ]
     },
     "execution_count": 58,
     "metadata": {},
     "output_type": "execute_result"
    },
    {
     "data": {
      "image/png": "[encoded data removed]",
      "text/plain": [
       "<Figure size 432x288 with 1 Axes>"
      ]
     },
     "metadata": {
      "needs_background": "light"
     },
     "output_type": "display_data"
    }
   ],
   "source": [
    "plt.scatter(y_test,y_predict,alpha=0.4)\n",
    "plt.xlabel(\"Actual Number of Wins\")\n",
    "plt.ylabel(\"Predicted Number of Wins\")\n",
    "plt.title(\"Actual Number of Wins vs Predicted Number of Wins\")"
   ]
  },
  {
   "cell_type": "code",
   "execution_count": 22,
   "id": "9c2cc06f",
   "metadata": {},
   "outputs": [],
   "source": [
    "# Task 2 is to perform linear regression on double faults vs losses"
   ]
  },
  {
   "cell_type": "code",
   "execution_count": 60,
   "id": "d3050cd7",
   "metadata": {},
   "outputs": [],
   "source": [
    "x_train,x_test,y_train,y_test=train_test_split(x1,y1,train_size=0.8)"
   ]
  },
  {
   "cell_type": "code",
   "execution_count": 61,
   "id": "97427ed8",
   "metadata": {},
   "outputs": [
    {
     "data": {
      "text/plain": [
       "LinearRegression()"
      ]
     },
     "execution_count": 61,
     "metadata": {},
     "output_type": "execute_result"
    }
   ],
   "source": [
    "best_line=LinearRegression()\n",
    "best_line.fit(x_train,y_train)"
   ]
  },
  {
   "cell_type": "code",
   "execution_count": 62,
   "id": "d6ea26d4",
   "metadata": {},
   "outputs": [
    {
     "name": "stdout",
     "output_type": "stream",
     "text": [
      "Score of double faults vs losses:  0.768411243213674\n"
     ]
    }
   ],
   "source": [
    "print(\"Score of double faults vs losses: \" , best_line.score(x_test,y_test))"
   ]
  },
  {
   "cell_type": "code",
   "execution_count": 63,
   "id": "85bfa55a",
   "metadata": {},
   "outputs": [],
   "source": [
    "y_predict=best_line.predict(x_test)\n"
   ]
  },
  {
   "cell_type": "code",
   "execution_count": 64,
   "id": "d83cf95d",
   "metadata": {},
   "outputs": [
    {
     "data": {
      "text/plain": [
       "Text(0.5, 1.0, 'Actual Number of Losses vs Predicted Number of Losses')"
      ]
     },
     "execution_count": 64,
     "metadata": {},
     "output_type": "execute_result"
    },
    {
     "data": {
      "image/png": "[encoded data removed]",
      "text/plain": [
       "<Figure size 432x288 with 1 Axes>"
      ]
     },
     "metadata": {
      "needs_background": "light"
     },
     "output_type": "display_data"
    }
   ],
   "source": [
    "plt.scatter(y_test,y_predict,alpha=0.4)\n",
    "plt.xlabel(\"Actual Number of Losses\")\n",
    "plt.ylabel(\"Predicted Number of Losses\")\n",
    "plt.title(\"Actual Number of Losses vs Predicted Number of Losses\")"
   ]
  },
  {
   "cell_type": "code",
   "execution_count": 102,
   "id": "d104c44e",
   "metadata": {},
   "outputs": [
    {
     "name": "stdout",
     "output_type": "stream",
     "text": [
      "Of the two regression tasks done so far there is a stronger score between Double Faults and losses than there is bewtween Aces and wins. Double faults contribute more to losses than aces do to wins. \n"
     ]
    }
   ],
   "source": [
    "print(\"Of the two regression tasks done so far there is a stronger score between Double Faults and losses than there is bewtween Aces and wins. Double faults contribute more to losses than aces do to wins. \")"
   ]
  },
  {
   "cell_type": "code",
   "execution_count": 73,
   "id": "a4e385d0",
   "metadata": {},
   "outputs": [],
   "source": [
    "# Task 3 is to perform Linear Regression on two features and see if those 2 features give a better score than 1 feature.\n",
    "#The features chosen are Aces and first serve points won vs wins"
   ]
  },
  {
   "cell_type": "code",
   "execution_count": 96,
   "id": "b3dff048",
   "metadata": {},
   "outputs": [
    {
     "name": "stdout",
     "output_type": "stream",
     "text": [
      "   Aces  FirstServe\n",
      "0     0        0.88\n",
      "1     7        0.84\n",
      "2     2        0.83\n",
      "3     2        0.83\n",
      "4     1        0.81\n"
     ]
    }
   ],
   "source": [
    "x2=df[[\"Aces\",\"FirstServe\"]]\n",
    "print(x2.head())"
   ]
  },
  {
   "cell_type": "code",
   "execution_count": 97,
   "id": "f03a755e",
   "metadata": {},
   "outputs": [],
   "source": [
    "x_train,x_test,y_train,y_test=train_test_split(x2,y,train_size=0.8)"
   ]
  },
  {
   "cell_type": "code",
   "execution_count": 98,
   "id": "e9b61766",
   "metadata": {},
   "outputs": [
    {
     "data": {
      "text/plain": [
       "LinearRegression()"
      ]
     },
     "execution_count": 98,
     "metadata": {},
     "output_type": "execute_result"
    }
   ],
   "source": [
    "best_line=LinearRegression()\n",
    "best_line.fit(x_train,y_train)"
   ]
  },
  {
   "cell_type": "code",
   "execution_count": 103,
   "id": "66ae31c8",
   "metadata": {},
   "outputs": [
    {
     "name": "stdout",
     "output_type": "stream",
     "text": [
      "Score of Aces and First Serve % vs wins:  0.7624727123547379\n"
     ]
    }
   ],
   "source": [
    "print(\"Score of Aces and First Serve % vs wins: \" , best_line.score(x_test,y_test))"
   ]
  },
  {
   "cell_type": "code",
   "execution_count": 100,
   "id": "1a87b379",
   "metadata": {},
   "outputs": [],
   "source": [
    "y_predict=best_line.predict(x_test)"
   ]
  },
  {
   "cell_type": "code",
   "execution_count": 101,
   "id": "4eee205a",
   "metadata": {},
   "outputs": [
    {
     "data": {
      "text/plain": [
       "Text(0.5, 1.0, 'Actual Number of Wins vs Predicted Number of Wins')"
      ]
     },
     "execution_count": 101,
     "metadata": {},
     "output_type": "execute_result"
    },
    {
     "data": {
      "image/png": "[encoded data removed]",
      "text/plain": [
       "<Figure size 432x288 with 1 Axes>"
      ]
     },
     "metadata": {
      "needs_background": "light"
     },
     "output_type": "display_data"
    }
   ],
   "source": [
    "plt.scatter(y_test,y_predict,alpha=0.5)\n",
    "plt.xlabel(\"Actual Number of Wins\")\n",
    "plt.ylabel(\"Predicted Number of Wins\")\n",
    "plt.title(\"Actual Number of Wins vs Predicted Number of Wins\")"
   ]
  },
  {
   "cell_type": "code",
   "execution_count": 104,
   "id": "90c16bdd",
   "metadata": {},
   "outputs": [
    {
     "name": "stdout",
     "output_type": "stream",
     "text": [
      "When including First Serve and Aces in the linear regression model we get a greater score than when it was just aces. The score of the linear regression model when it was just aces vs wins was 0.7. The score for aces and first serve % vs wins was 0.76. From this we can infer that a high first serve % contributes positively to wins. \n"
     ]
    }
   ],
   "source": [
    "print(\"When including First Serve and Aces in the linear regression model we get a greater score than when it was just aces. The score of the linear regression model when it was just aces vs wins was 0.7. The score for aces and first serve % vs wins was 0.76. From this we can infer that a high first serve % contributes positively to wins. \")"
   ]
  },
  {
   "cell_type": "code",
   "execution_count": 35,
   "id": "53b818fd",
   "metadata": {},
   "outputs": [],
   "source": [
    "# Task 4 is to perform linear regression on 5 features vs wins . \n",
    "#The features will be aces, breakpoints converted,First serve,second serve points won,return games won against wins\n",
    "#Then compare score vs previous linear regressions"
   ]
  },
  {
   "cell_type": "code",
   "execution_count": 36,
   "id": "0847240a",
   "metadata": {},
   "outputs": [
    {
     "name": "stdout",
     "output_type": "stream",
     "text": [
      "   Aces  BreakPointsConverted  FirstServe  SecondServePointsWon  \\\n",
      "0     0                  0.14        0.88                  0.50   \n",
      "1     7                  0.00        0.84                  0.33   \n",
      "2     2                  0.38        0.83                  0.53   \n",
      "3     2                  0.33        0.83                  0.59   \n",
      "4     1                  0.00        0.81                  0.33   \n",
      "\n",
      "   ReturnGamesWon  \n",
      "0            0.11  \n",
      "1            0.00  \n",
      "2            0.16  \n",
      "3            0.14  \n",
      "4            0.00  \n"
     ]
    }
   ],
   "source": [
    "x3=df[[\"Aces\",\"BreakPointsConverted\",\"FirstServe\",\"SecondServePointsWon\",\"ReturnGamesWon\"]]\n",
    "print(x3.head())"
   ]
  },
  {
   "cell_type": "code",
   "execution_count": 91,
   "id": "078de817",
   "metadata": {},
   "outputs": [],
   "source": [
    "x_train,x_test,y_train,y_test=train_test_split(x3,y,train_size=0.8)"
   ]
  },
  {
   "cell_type": "code",
   "execution_count": 92,
   "id": "9e0321a4",
   "metadata": {},
   "outputs": [
    {
     "data": {
      "text/plain": [
       "LinearRegression()"
      ]
     },
     "execution_count": 92,
     "metadata": {},
     "output_type": "execute_result"
    }
   ],
   "source": [
    "best_line=LinearRegression()\n",
    "best_line.fit(x_train,y_train)"
   ]
  },
  {
   "cell_type": "code",
   "execution_count": 93,
   "id": "d05c650c",
   "metadata": {},
   "outputs": [
    {
     "name": "stdout",
     "output_type": "stream",
     "text": [
      "Score of 5 features vs wins:  0.721411446442992\n"
     ]
    }
   ],
   "source": [
    "print(\"Score of 5 features vs wins: \" , best_line.score(x_test,y_test))"
   ]
  },
  {
   "cell_type": "code",
   "execution_count": 94,
   "id": "6caf5f98",
   "metadata": {},
   "outputs": [],
   "source": [
    "y_predict=best_line.predict(x_test)"
   ]
  },
  {
   "cell_type": "code",
   "execution_count": 95,
   "id": "15af2b01",
   "metadata": {},
   "outputs": [
    {
     "data": {
      "text/plain": [
       "Text(0.5, 1.0, 'Actual Number of Wins vs Predicted Number of Wins')"
      ]
     },
     "execution_count": 95,
     "metadata": {},
     "output_type": "execute_result"
    },
    {
     "data": {
      "image/png": "[encoded data removed]",
      "text/plain": [
       "<Figure size 432x288 with 1 Axes>"
      ]
     },
     "metadata": {
      "needs_background": "light"
     },
     "output_type": "display_data"
    }
   ],
   "source": [
    "plt.scatter(y_test,y_predict,alpha=0.4,)\n",
    "plt.xlabel(\"Actual Number of Wins\")\n",
    "plt.ylabel(\"Predicted Number of Wins\")\n",
    "plt.title(\"Actual Number of Wins vs Predicted Number of Wins\")"
   ]
  },
  {
   "cell_type": "code",
   "execution_count": 105,
   "id": "08b78ca6",
   "metadata": {},
   "outputs": [
    {
     "name": "stdout",
     "output_type": "stream",
     "text": [
      "The features chosen here do not give as great a score as aces and first serve % vs wins, 0.72 against 0.76. Naturally you would think the more features you include the higher the score will be, however this is not the case as we chose features that may have a detramental effect on the number of wins \n"
     ]
    }
   ],
   "source": [
    "print(\"The features chosen here do not give as great a score as aces and first serve % vs wins, 0.72 against 0.76. Naturally you would think the more features you include the higher the score will be, however this is not the case as we chose features that may have a detramental effect on the number of wins \")"
   ]
  },
  {
   "cell_type": "code",
   "execution_count": 73,
   "id": "bc02ea16",
   "metadata": {},
   "outputs": [],
   "source": [
    "# Task 5 is to perform linear regression on All feature vs wins"
   ]
  },
  {
   "cell_type": "code",
   "execution_count": 74,
   "id": "8f2647c5",
   "metadata": {},
   "outputs": [
    {
     "name": "stdout",
     "output_type": "stream",
     "text": [
      "   FirstServe  FirstServePointsWon  FirstServeReturnPointsWon  \\\n",
      "0        0.88                 0.50                       0.38   \n",
      "1        0.84                 0.62                       0.26   \n",
      "2        0.83                 0.60                       0.28   \n",
      "3        0.83                 0.64                       0.34   \n",
      "4        0.81                 0.54                       0.00   \n",
      "\n",
      "   SecondServePointsWon  SecondServeReturnPointsWon  Aces  \\\n",
      "0                  0.50                        0.39     0   \n",
      "1                  0.33                        0.07     7   \n",
      "2                  0.53                        0.44     2   \n",
      "3                  0.59                        0.33     2   \n",
      "4                  0.33                        0.33     1   \n",
      "\n",
      "   BreakPointsConverted  BreakPointsFaced  BreakPointsOpportunities  \\\n",
      "0                  0.14                 7                         7   \n",
      "1                  0.00                 7                         0   \n",
      "2                  0.38                10                         8   \n",
      "3                  0.33                 5                         6   \n",
      "4                  0.00                 2                         0   \n",
      "\n",
      "   BreakPointsSaved  DoubleFaults  ReturnGamesPlayed  ReturnGamesWon  \\\n",
      "0              0.43             2                  9            0.11   \n",
      "1              0.57             1                  9            0.00   \n",
      "2              0.40             1                 19            0.16   \n",
      "3              0.40             0                 14            0.14   \n",
      "4              0.50             2                  3            0.00   \n",
      "\n",
      "   ReturnPointsWon  ServiceGamesPlayed  ServiceGamesWon  TotalPointsWon  \\\n",
      "0             0.38                   8             0.50            0.43   \n",
      "1             0.20                   9             0.67            0.41   \n",
      "2             0.34                  17             0.65            0.45   \n",
      "3             0.34                  15             0.80            0.49   \n",
      "4             0.20                   2             0.50            0.35   \n",
      "\n",
      "   TotalServicePointsWon  \n",
      "0                   0.50  \n",
      "1                   0.57  \n",
      "2                   0.59  \n",
      "3                   0.63  \n",
      "4                   0.50  \n"
     ]
    }
   ],
   "source": [
    "x4=df[['FirstServe','FirstServePointsWon','FirstServeReturnPointsWon',\n",
    "'SecondServePointsWon','SecondServeReturnPointsWon','Aces',\n",
    "'BreakPointsConverted','BreakPointsFaced','BreakPointsOpportunities',\n",
    "'BreakPointsSaved','DoubleFaults','ReturnGamesPlayed','ReturnGamesWon',\n",
    "'ReturnPointsWon','ServiceGamesPlayed','ServiceGamesWon','TotalPointsWon',\n",
    "'TotalServicePointsWon']]\n",
    "print(x4.head())"
   ]
  },
  {
   "cell_type": "code",
   "execution_count": 75,
   "id": "7cc8c0c8",
   "metadata": {},
   "outputs": [],
   "source": [
    "x_train,x_test,y_train,y_test=train_test_split(x4,y,train_size=0.8)"
   ]
  },
  {
   "cell_type": "code",
   "execution_count": 76,
   "id": "95c0b1bd",
   "metadata": {},
   "outputs": [
    {
     "data": {
      "text/plain": [
       "LinearRegression()"
      ]
     },
     "execution_count": 76,
     "metadata": {},
     "output_type": "execute_result"
    }
   ],
   "source": [
    "best_line=LinearRegression()\n",
    "best_line.fit(x_train,y_train)"
   ]
  },
  {
   "cell_type": "code",
   "execution_count": 77,
   "id": "0f43ca05",
   "metadata": {},
   "outputs": [
    {
     "name": "stdout",
     "output_type": "stream",
     "text": [
      "Score of all features vs wins:  0.9124385187185969\n"
     ]
    }
   ],
   "source": [
    "print(\"Score of all features vs wins: \" , best_line.score(x_test,y_test))"
   ]
  },
  {
   "cell_type": "code",
   "execution_count": 78,
   "id": "cdabb5c4",
   "metadata": {},
   "outputs": [],
   "source": [
    "y_predict=best_line.predict(x_test)"
   ]
  },
  {
   "cell_type": "code",
   "execution_count": 79,
   "id": "a154688f",
   "metadata": {},
   "outputs": [
    {
     "data": {
      "text/plain": [
       "Text(0.5, 1.0, 'Actual Number of Wins vs Predicted Number of Wins')"
      ]
     },
     "execution_count": 79,
     "metadata": {},
     "output_type": "execute_result"
    },
    {
     "data": {
      "image/png": "[encoded data removed]",
      "text/plain": [
       "<Figure size 432x288 with 1 Axes>"
      ]
     },
     "metadata": {
      "needs_background": "light"
     },
     "output_type": "display_data"
    }
   ],
   "source": [
    "plt.scatter(y_test,y_predict,alpha=0.4)\n",
    "plt.xlabel(\"Actual Number of Wins\")\n",
    "plt.ylabel(\"Predicted Number of Wins\")\n",
    "plt.title(\"Actual Number of Wins vs Predicted Number of Wins\")"
   ]
  },
  {
   "cell_type": "code",
   "execution_count": 106,
   "id": "f40b7cf4",
   "metadata": {},
   "outputs": [
    {
     "name": "stdout",
     "output_type": "stream",
     "text": [
      "Choosing all features against wins gives us the greatest score we have had so far, a score of 0.91. This model is giving a high degreee of accurary to predict the number of wins a player will have based on all the features\n"
     ]
    }
   ],
   "source": [
    "print(\"Choosing all features against wins gives us the greatest score we have had so far, a score of 0.91. This model is giving a high degreee of accurary to predict the number of wins a player will have based on all the features\")"
   ]
  },
  {
   "cell_type": "code",
   "execution_count": null,
   "id": "432676bd",
   "metadata": {},
   "outputs": [],
   "source": []
  }
 ],
 "metadata": {
  "kernelspec": {
   "display_name": "Python 3 (ipykernel)",
   "language": "python",
   "name": "python3"
  },
  "language_info": {
   "codemirror_mode": {
    "name": "ipython",
    "version": 3
   },
   "file_extension": ".py",
   "mimetype": "text/x-python",
   "name": "python",
   "nbconvert_exporter": "python",
   "pygments_lexer": "ipython3",
   "version": "3.9.7"
  }
 },
 "nbformat": 4,
 "nbformat_minor": 5
}
